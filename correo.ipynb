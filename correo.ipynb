{
 "cells": [
  {
   "cell_type": "markdown",
   "metadata": {},
   "source": [
    "🎉📧🚀Correos Masivos para Publicidad 🚀🎉📧\n",
    "\n",
    "En este proyecto podremos enviar correos masivos a nuestro publico objeto jalando data de excel para automatizar el envio.\n",
    "\n",
    "REQUISITOS:\n",
    "\n",
    "*Antes de empezar cabe resaltar que necesitas en tu correo activar contraseñas de aplicacion, si aun no lo tiene accede a este [LINK](https://myaccount.google.com/apppasswords?pli=1&rapt=AEjHL4PS6BOROVTS6RhJ9ZNM1nnlyBLiSHbT5T2QKk5B2D_u61VxVjdEoEstaav8e6Leytv9AJHBuSfKSAJg0aoyNlaLGnMzRkpUcNcPq791TLVEsslO2dI)\n",
    "\n",
    "*Lo siguiente sera que tengas un archivo HTML Con la informacion publicitaria en nuestro caso adjuntamos uno de ejemplo en el repositorio, pueden utilizar un maqueteador existen varias pag, para el proyecto se uso stripo.\n",
    "\n",
    "*Por ultimo la data que esta en excel, recuerden que la data debe estar en una columna con el nombre EMAILS o en todo caso pueden modificar el codigo y colocar el nombre que ustedes ya estan utilizando\n",
    "\n",
    "Buenos vamos con el code:\n"
   ]
  },
  {
   "cell_type": "markdown",
   "metadata": {},
   "source": [
    "IMPORTAMOS LAS LIBRERIAS NECESARIAS:\n",
    "si no la tienen instaladas usen (pip install pandas)\n",
    "comprueben:\n",
    "python -c \"import smtplib\"\n",
    "python -c \"import pandas\"\n",
    "python -c \"from email.mime.multipart import MIMEMultipart\"\n",
    "python -c \"from email.mime.text import MIMEText\""
   ]
  },
  {
   "cell_type": "code",
   "execution_count": 3,
   "metadata": {},
   "outputs": [],
   "source": [
    "import smtplib\n",
    "import pandas as pd\n",
    "from email.mime.multipart import MIMEMultipart\n",
    "from email.mime.text import MIMEText\n"
   ]
  },
  {
   "cell_type": "code",
   "execution_count": null,
   "metadata": {},
   "outputs": [],
   "source": [
    "def send_email():\n",
    "    try:\n",
    "        # Aqui leeremos el archivo excel recueden que debe coincidir con el nombre del archivo, en el caso este en otra ubi tiene que fijar la ruta tambien\n",
    "        # en nuestro caso se encuentra en la misma carpeta por eso no fijamos la ruta\n",
    "        excel = pd.read_excel(\"Libro1.xlsx\")\n",
    "        \n",
    "        # Configurarmos la conexión al servidor SMTP de Gmail\n",
    "        conexion = smtplib.SMTP('smtp.gmail.com', 587)\n",
    "        conexion.starttls()  # Habilitamos el modo seguro TLS\n",
    "        \n",
    "        # Colocaremos nuestra dirección de correo y contraseña OJO que aqui va la contraseña de aplicaciones de gmail\n",
    "        conexion.login(user='ejemplo@gmail.com', password='ekih arsg yfxi jvna')\n",
    "        \n",
    "        #Jalaremos la data de la columna EMAILS de nuestro archivo excel\n",
    "        emails = excel[\"EMAILS\"]\n",
    "        \n",
    "        #Leeremos el archivo HTML que contiene el mensaje que enviaremos\n",
    "        with open(\"mensaje.html\", \"r\", encoding='utf-8') as file:\n",
    "            mensaje_html = file.read()\n",
    "        \n",
    "        #hacemos un for para recorrer los correos y enviar el mensaje\n",
    "        for email in emails:\n",
    "            msg = MIMEMultipart()\n",
    "            msg['From'] = 'ejemplo@gmail.com' #Aqui colocamos nuestro correo\n",
    "            msg['To'] = email \n",
    "            msg['Subject'] = 'CORREOS MASIVOS PUBLICIDAD PRUEBA'#AQui colocamos el asunto\n",
    "            \n",
    "            msg.attach(MIMEText(mensaje_html, 'html'))\n",
    "            \n",
    "            conexion.sendmail(from_addr='ejemplo@gmail.com', to_addrs=email, msg=msg.as_string())\n",
    "        \n",
    "        conexion.quit()\n",
    "        #Si todo sale bien nos mostrara el mensaje de correos enviados correctamente\n",
    "        print(\"Correos enviados correctamente\")\n",
    "    except Exception as e:\n",
    "        #Si hay un error nos mostrara el error\n",
    "        print(f\"Error al enviar los correos: {e}\")\n",
    "#Llamamos a la funcion\n",
    "send_email()\n",
    "\n",
    "#LISTO YA PODEMOS ENVIAR CORREOS MASIVOS CON PYTHON"
   ]
  }
 ],
 "metadata": {
  "kernelspec": {
   "display_name": "Python 3",
   "language": "python",
   "name": "python3"
  },
  "language_info": {
   "codemirror_mode": {
    "name": "ipython",
    "version": 3
   },
   "file_extension": ".py",
   "mimetype": "text/x-python",
   "name": "python",
   "nbconvert_exporter": "python",
   "pygments_lexer": "ipython3",
   "version": "3.11.9"
  }
 },
 "nbformat": 4,
 "nbformat_minor": 2
}
